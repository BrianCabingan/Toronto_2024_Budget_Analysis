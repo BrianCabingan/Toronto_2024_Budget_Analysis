{
  "nbformat": 4,
  "nbformat_minor": 0,
  "metadata": {
    "colab": {
      "provenance": []
    },
    "kernelspec": {
      "name": "python3",
      "display_name": "Python 3"
    },
    "language_info": {
      "name": "python"
    }
  },
  "cells": [
    {
      "cell_type": "markdown",
      "source": [
        "## Import Libraries"
      ],
      "metadata": {
        "id": "nngcUsKazpge"
      }
    },
    {
      "cell_type": "code",
      "execution_count": 75,
      "metadata": {
        "id": "izVgdLH9zUVv"
      },
      "outputs": [],
      "source": [
        "import pandas as pd"
      ]
    },
    {
      "cell_type": "markdown",
      "source": [
        "## Import Data"
      ],
      "metadata": {
        "id": "aEyZ_oOaz1g_"
      }
    },
    {
      "cell_type": "code",
      "source": [
        "# Load data [source: https://open.toronto.ca/dataset/budget-operating-budget-program-summary-by-expenditure-category/]\n",
        "df = pd.read_excel(\"approved-operating-budget-summary-2024.xlsx\")\n",
        "\n",
        "# Display the first few rows\n",
        "print(df.head())"
      ],
      "metadata": {
        "colab": {
          "base_uri": "https://localhost:8080/"
        },
        "id": "v0fWSqZbz3k8",
        "outputId": "ce745a88-3dcf-4782-8af9-a2903227e1ca"
      },
      "execution_count": 76,
      "outputs": [
        {
          "output_type": "stream",
          "name": "stdout",
          "text": [
            "                      Program                           Service      Activity  \\\n",
            "0  Arena Boards of Management  Community Ice & Facility Booking  Not assigned   \n",
            "1  Arena Boards of Management  Community Ice & Facility Booking  Not assigned   \n",
            "2  Arena Boards of Management  Community Ice & Facility Booking  Not assigned   \n",
            "3  Arena Boards of Management  Community Ice & Facility Booking  Not assigned   \n",
            "4  Arena Boards of Management  Community Ice & Facility Booking  Not assigned   \n",
            "\n",
            "  Expense/Revenue                           Category Name  \\\n",
            "0        Expenses                                Benefits   \n",
            "1        Expenses                                Benefits   \n",
            "2        Expenses                                Benefits   \n",
            "3        Expenses                 Contribution To Capital   \n",
            "4        Expenses  Contribution To Reserves/Reserve Funds   \n",
            "\n",
            "                        Sub-Category Name       Commitment item        2024  \\\n",
            "0                              Allowances   Benefits To Be Dist  1043502.67   \n",
            "1                              Allowances         Car Allowance    11400.00   \n",
            "2                                Benefits            WSIB Admin        0.45   \n",
            "3                 Contribution To Capital       Cont To Capital   536600.00   \n",
            "4  Contribution To Reserves/Reserve Funds  Con Veh Res - Lum Sm   310000.04   \n",
            "\n",
            "  Unnamed: 8  \n",
            "0        NaN  \n",
            "1        NaN  \n",
            "2        NaN  \n",
            "3        NaN  \n",
            "4        NaN  \n"
          ]
        }
      ]
    },
    {
      "cell_type": "markdown",
      "source": [
        "## Clean Data"
      ],
      "metadata": {
        "id": "kuSAmv560kXo"
      }
    },
    {
      "cell_type": "code",
      "source": [
        "# Remove column 'Unnamed: 8'\n",
        "df = df.drop(columns=['Unnamed: 8'])\n",
        "print(df.head())"
      ],
      "metadata": {
        "colab": {
          "base_uri": "https://localhost:8080/"
        },
        "id": "7uWnEsI21vK3",
        "outputId": "abb7debf-4368-4299-e80a-ed774ad26273"
      },
      "execution_count": 77,
      "outputs": [
        {
          "output_type": "stream",
          "name": "stdout",
          "text": [
            "                      Program                           Service      Activity  \\\n",
            "0  Arena Boards of Management  Community Ice & Facility Booking  Not assigned   \n",
            "1  Arena Boards of Management  Community Ice & Facility Booking  Not assigned   \n",
            "2  Arena Boards of Management  Community Ice & Facility Booking  Not assigned   \n",
            "3  Arena Boards of Management  Community Ice & Facility Booking  Not assigned   \n",
            "4  Arena Boards of Management  Community Ice & Facility Booking  Not assigned   \n",
            "\n",
            "  Expense/Revenue                           Category Name  \\\n",
            "0        Expenses                                Benefits   \n",
            "1        Expenses                                Benefits   \n",
            "2        Expenses                                Benefits   \n",
            "3        Expenses                 Contribution To Capital   \n",
            "4        Expenses  Contribution To Reserves/Reserve Funds   \n",
            "\n",
            "                        Sub-Category Name       Commitment item        2024  \n",
            "0                              Allowances   Benefits To Be Dist  1043502.67  \n",
            "1                              Allowances         Car Allowance    11400.00  \n",
            "2                                Benefits            WSIB Admin        0.45  \n",
            "3                 Contribution To Capital       Cont To Capital   536600.00  \n",
            "4  Contribution To Reserves/Reserve Funds  Con Veh Res - Lum Sm   310000.04  \n"
          ]
        }
      ]
    },
    {
      "cell_type": "code",
      "source": [
        "# Missing values per column\n",
        "print(df.isna().sum())"
      ],
      "metadata": {
        "colab": {
          "base_uri": "https://localhost:8080/"
        },
        "id": "Bpe61n640_dw",
        "outputId": "ebb4593d-3e71-4b15-d217-6c3deabc57e4"
      },
      "execution_count": 78,
      "outputs": [
        {
          "output_type": "stream",
          "name": "stdout",
          "text": [
            "Program              1372\n",
            "Service              1372\n",
            "Activity             1372\n",
            "Expense/Revenue      1372\n",
            "Category Name        1372\n",
            "Sub-Category Name    1372\n",
            "Commitment item      1372\n",
            "2024                 1372\n",
            "dtype: int64\n"
          ]
        }
      ]
    },
    {
      "cell_type": "code",
      "source": [
        "# Rows with missing values\n",
        "print(df[df.isna().any(axis=1)])"
      ],
      "metadata": {
        "colab": {
          "base_uri": "https://localhost:8080/"
        },
        "id": "HDgzD9If1YSO",
        "outputId": "ad1bedfb-969d-46a1-81b5-bf0ae39a6e0a"
      },
      "execution_count": 79,
      "outputs": [
        {
          "output_type": "stream",
          "name": "stdout",
          "text": [
            "      Program Service Activity Expense/Revenue Category Name  \\\n",
            "18585     NaN     NaN      NaN             NaN           NaN   \n",
            "18586     NaN     NaN      NaN             NaN           NaN   \n",
            "18587     NaN     NaN      NaN             NaN           NaN   \n",
            "18588     NaN     NaN      NaN             NaN           NaN   \n",
            "18589     NaN     NaN      NaN             NaN           NaN   \n",
            "...       ...     ...      ...             ...           ...   \n",
            "19952     NaN     NaN      NaN             NaN           NaN   \n",
            "19953     NaN     NaN      NaN             NaN           NaN   \n",
            "19954     NaN     NaN      NaN             NaN           NaN   \n",
            "19955     NaN     NaN      NaN             NaN           NaN   \n",
            "19956     NaN     NaN      NaN             NaN           NaN   \n",
            "\n",
            "      Sub-Category Name Commitment item  2024  \n",
            "18585               NaN             NaN   NaN  \n",
            "18586               NaN             NaN   NaN  \n",
            "18587               NaN             NaN   NaN  \n",
            "18588               NaN             NaN   NaN  \n",
            "18589               NaN             NaN   NaN  \n",
            "...                 ...             ...   ...  \n",
            "19952               NaN             NaN   NaN  \n",
            "19953               NaN             NaN   NaN  \n",
            "19954               NaN             NaN   NaN  \n",
            "19955               NaN             NaN   NaN  \n",
            "19956               NaN             NaN   NaN  \n",
            "\n",
            "[1372 rows x 8 columns]\n"
          ]
        }
      ]
    },
    {
      "cell_type": "code",
      "source": [
        "# Drop rows with any NaN values\n",
        "df_cleaned = df.dropna()"
      ],
      "metadata": {
        "id": "ql7l2Yqf2PF7"
      },
      "execution_count": 80,
      "outputs": []
    },
    {
      "cell_type": "code",
      "source": [
        "# Show number of rows and columns before removing missing values\n",
        "rows, cols = df.shape\n",
        "print(f\"Number of rows before: {rows}\")\n",
        "print(f\"Number of columns before: {cols}\")\n",
        "\n",
        "\n",
        "# Show number of rows and columns after removing missing values\n",
        "rows, cols = df_cleaned.shape\n",
        "print(f\"Number of rows after: {rows}\")\n",
        "print(f\"Number of columns after: {cols}\")"
      ],
      "metadata": {
        "colab": {
          "base_uri": "https://localhost:8080/"
        },
        "id": "gYhDzMd_2fvn",
        "outputId": "1a3e0522-305a-48f8-f9dc-1800b015335b"
      },
      "execution_count": 81,
      "outputs": [
        {
          "output_type": "stream",
          "name": "stdout",
          "text": [
            "Number of rows before: 19957\n",
            "Number of columns before: 8\n",
            "Number of rows after: 18585\n",
            "Number of columns after: 8\n"
          ]
        }
      ]
    },
    {
      "cell_type": "code",
      "source": [
        "# Check if there are any duplicates\n",
        "has_duplicates = df_cleaned.duplicated().any()\n",
        "print(has_duplicates)"
      ],
      "metadata": {
        "colab": {
          "base_uri": "https://localhost:8080/"
        },
        "id": "opsE2Afm3awv",
        "outputId": "476fc35e-bff3-475b-c2d3-8085b2001cc3"
      },
      "execution_count": 82,
      "outputs": [
        {
          "output_type": "stream",
          "name": "stdout",
          "text": [
            "True\n"
          ]
        }
      ]
    },
    {
      "cell_type": "code",
      "source": [
        "# Check number of duplicate rows\n",
        "num_duplicates = df_cleaned.duplicated().sum()\n",
        "print(num_duplicates)"
      ],
      "metadata": {
        "colab": {
          "base_uri": "https://localhost:8080/"
        },
        "id": "zXObLwuW3wkP",
        "outputId": "af6e430d-e448-4a6a-899b-94a591b733bf"
      },
      "execution_count": 83,
      "outputs": [
        {
          "output_type": "stream",
          "name": "stdout",
          "text": [
            "78\n"
          ]
        }
      ]
    },
    {
      "cell_type": "code",
      "source": [
        "# Show some duplicates (Check data source for more context on duplicates)\n",
        "duplicates = df_cleaned[df_cleaned.duplicated()]\n",
        "print(duplicates.head())"
      ],
      "metadata": {
        "colab": {
          "base_uri": "https://localhost:8080/"
        },
        "id": "M1NPMpu84H88",
        "outputId": "2ab3809c-93fd-48bc-edc8-fd174601e2a1"
      },
      "execution_count": 84,
      "outputs": [
        {
          "output_type": "stream",
          "name": "stdout",
          "text": [
            "             Program                Service               Activity  \\\n",
            "15367  Toronto Water  Stormwater Management  Stormwater Collection   \n",
            "15373  Toronto Water  Stormwater Management  Stormwater Collection   \n",
            "15375  Toronto Water  Stormwater Management  Stormwater Collection   \n",
            "15514  Toronto Water  Stormwater Management  Stormwater Collection   \n",
            "15538  Toronto Water  Stormwater Management  Stormwater Collection   \n",
            "\n",
            "      Expense/Revenue             Category Name         Sub-Category Name  \\\n",
            "15367        Expenses  Inter-Divisional Charges  Inter-Divisional Charges   \n",
            "15373        Expenses  Inter-Divisional Charges  Inter-Divisional Charges   \n",
            "15375        Expenses  Inter-Divisional Charges  Inter-Divisional Charges   \n",
            "15514        Expenses          Service And Rent       Contracted Services   \n",
            "15538        Expenses          Service And Rent       Contracted Services   \n",
            "\n",
            "            Commitment item       2024  \n",
            "15367    IDC-Fac Maint Svcs  386712.22  \n",
            "15373     IDC-Flt Misc Chgs   94998.56  \n",
            "15375  IDC-Flt Sht Tm Renta   50972.04  \n",
            "15514  C. Srv - Salt & Plow   28109.51  \n",
            "15538  Contr Srv- Heat& A/C    3622.50  \n"
          ]
        }
      ]
    },
    {
      "cell_type": "code",
      "source": [
        "# Remove duplicate rows (keeping the first occurrence)\n",
        "df_cleaned2 = df_cleaned.drop_duplicates()\n",
        "\n",
        "# Show number of rows and columns before removing duplicate values\n",
        "rows, cols = df_cleaned.shape\n",
        "print(f\"Number of rows before: {rows}\")\n",
        "print(f\"Number of columns before: {cols}\")\n",
        "\n",
        "\n",
        "# Show number of rows and columns after removing duplicate values\n",
        "rows, cols = df_cleaned2.shape\n",
        "print(f\"Number of rows after: {rows}\")\n",
        "print(f\"Number of columns after: {cols}\")"
      ],
      "metadata": {
        "colab": {
          "base_uri": "https://localhost:8080/"
        },
        "id": "WAkKIUoo5QjW",
        "outputId": "44f006f1-4ffe-40e0-a80f-c1f17371f13d"
      },
      "execution_count": 85,
      "outputs": [
        {
          "output_type": "stream",
          "name": "stdout",
          "text": [
            "Number of rows before: 18585\n",
            "Number of columns before: 8\n",
            "Number of rows after: 18507\n",
            "Number of columns after: 8\n"
          ]
        }
      ]
    },
    {
      "cell_type": "markdown",
      "source": [
        "## Perform Exploratory Data Analysis (EDA)"
      ],
      "metadata": {
        "id": "lh3l65ax700v"
      }
    },
    {
      "cell_type": "code",
      "source": [
        "### Find how much revenue and expense each program costs\n",
        "\n",
        "# Group by 'Program' and 'Expense/Revenue' and get the sum of '2024'\n",
        "grouped = df_cleaned2.groupby(['Program', 'Expense/Revenue']).sum()\n",
        "\n",
        "print(grouped['2024'])"
      ],
      "metadata": {
        "colab": {
          "base_uri": "https://localhost:8080/"
        },
        "id": "FpZNjq7s74oZ",
        "outputId": "78bcbe74-7ed1-4952-f44b-a5a217051b00"
      },
      "execution_count": 87,
      "outputs": [
        {
          "output_type": "stream",
          "name": "stdout",
          "text": [
            "Program                           Expense/Revenue\n",
            "Arena Boards of Management        Expenses           1.079258e+07\n",
            "                                  Revenues          -1.003086e+07\n",
            "Association of Community Centres  Expenses           1.156222e+07\n",
            "                                  Revenues          -3.316107e+05\n",
            "Auditor General's Office          Expenses           7.991143e+06\n",
            "                                                         ...     \n",
            "Transit Expansion                 Revenues          -9.040658e+06\n",
            "Transportation Services           Expenses           4.808558e+08\n",
            "                                  Revenues          -2.268704e+08\n",
            "Yonge-Dundas Square               Expenses           3.684921e+06\n",
            "                                  Revenues          -2.175000e+06\n",
            "Name: 2024, Length: 113, dtype: float64\n"
          ]
        }
      ]
    },
    {
      "cell_type": "code",
      "source": [
        "### Total profit / loss for each program\n",
        "\n",
        "# Group by 'Program' and get the sum\n",
        "program_totals = df_cleaned2.groupby('Program')['2024'].sum()\n",
        "\n",
        "print(program_totals)"
      ],
      "metadata": {
        "colab": {
          "base_uri": "https://localhost:8080/"
        },
        "id": "N9nBigqr9af_",
        "outputId": "1261c726-09fa-486f-d248-d96534787720"
      },
      "execution_count": 88,
      "outputs": [
        {
          "output_type": "stream",
          "name": "stdout",
          "text": [
            "Program\n",
            "Arena Boards of Management                             7.617211e+05\n",
            "Association of Community Centres                       1.123061e+07\n",
            "Auditor General's Office                               7.991143e+06\n",
            "Capital & Corporate Financing                          8.841746e+08\n",
            "Children's Services                                    9.362196e+07\n",
            "City Clerk's Office                                    3.674999e+07\n",
            "City Council                                           2.536767e+07\n",
            "City Manager's Office                                  6.566414e+07\n",
            "City Planning                                          9.951009e+06\n",
            "Corporate Real Estate Management                       1.215353e+08\n",
            "Court Services                                        -6.193280e+07\n",
            "CreateTO                                              -9.313226e-10\n",
            "Customer Experience                                    1.452042e+07\n",
            "Economic Development & Culture                         8.301550e+07\n",
            "Engineering & Construction Services                    1.224157e+06\n",
            "Environment & Climate                                  1.458923e+07\n",
            "Exhibition Place                                       8.000000e+05\n",
            "Fire Services                                          5.180306e+08\n",
            "Fleet Services                                         3.499233e+07\n",
            "Heritage Toronto                                       6.389652e+05\n",
            "Housing Secretariat                                    5.038535e+08\n",
            "Integrity Commissioner's Office                        7.071637e+05\n",
            "Legal Services                                         4.018861e+07\n",
            "Mayor's Office                                         3.008771e+06\n",
            "Municipal Licensing & Standards                        2.703026e+07\n",
            "Non-Program Expenditures                               5.487038e+08\n",
            "Non-Program Revenues                                  -2.115106e+09\n",
            "Non-Program Taxation Tax Levy                         -5.303919e+09\n",
            "Office of the Chief Financial Officer and Treasurer    1.444102e+07\n",
            "Office of the Chief Information Security Officer       3.387269e+07\n",
            "Office of the Controller                               4.549772e+07\n",
            "Office of the Lobbyist Registrar                       1.381346e+06\n",
            "Office of the Ombudsman                                3.792063e+06\n",
            "Parks, Forestry & Recreation                           3.431237e+08\n",
            "Policy, Planning, Finance & Administration             5.495361e+06\n",
            "Seniors Services and Long-Term Care                    7.940512e+07\n",
            "Social Development, Finance & Administration           1.101356e+08\n",
            "Solid Waste Management Services                       -1.552476e+07\n",
            "TO Live                                                5.599000e+06\n",
            "Technology Services                                    1.271587e+08\n",
            "Toronto & Region Conservation Authority                5.850669e+06\n",
            "Toronto Atmospheric Fund                               0.000000e+00\n",
            "Toronto Building                                      -1.614685e+07\n",
            "Toronto Emergency Management                           4.978825e+06\n",
            "Toronto Employment & Social Services                   8.049767e+07\n",
            "Toronto Paramedic Services                             1.117653e+08\n",
            "Toronto Parking Authority                             -3.192146e+07\n",
            "Toronto Police Service                                 1.173915e+09\n",
            "Toronto Police Services Board                          2.355300e+06\n",
            "Toronto Public Health                                  7.770866e+07\n",
            "Toronto Public Library                                 2.307140e+08\n",
            "Toronto Shelter and Support Services                   4.889558e+08\n",
            "Toronto Transit Commission - Conventional              1.075600e+09\n",
            "Toronto Transit Commission - Wheel Trans               1.556490e+08\n",
            "Toronto Water                                         -1.045481e+09\n",
            "Toronto Zoo                                            1.293962e+07\n",
            "Transit Expansion                                      2.426094e+06\n",
            "Transportation Services                                2.539853e+08\n",
            "Yonge-Dundas Square                                    1.509921e+06\n",
            "Name: 2024, dtype: float64\n"
          ]
        }
      ]
    },
    {
      "cell_type": "code",
      "source": [
        "# Find programs with the highest revenue / loss\n",
        "\n",
        "highest_revenue_program = program_totals.idxmax()\n",
        "highest_revenue = program_totals.max()\n",
        "\n",
        "highest_loss_program = program_totals.idxmin()\n",
        "highest_loss = program_totals.min()\n",
        "\n",
        "print(f\"The program with the highest revenue is {highest_revenue_program} with a total of {highest_revenue}.\")\n",
        "print(f\"The program with the highest loss is {highest_loss_program} with a total of {highest_loss}.\")"
      ],
      "metadata": {
        "colab": {
          "base_uri": "https://localhost:8080/"
        },
        "id": "A_XCXstI_wie",
        "outputId": "c9f8f7dc-9073-4168-8ceb-17ba70e27874"
      },
      "execution_count": 89,
      "outputs": [
        {
          "output_type": "stream",
          "name": "stdout",
          "text": [
            "The program with the highest revenue is Toronto Police Service with a total of 1173914500.1100001.\n",
            "The program with the highest loss is Non-Program Taxation Tax Levy with a total of -5303919155.299999.\n"
          ]
        }
      ]
    },
    {
      "cell_type": "code",
      "source": [
        "# Find total revenue and total expenses\n",
        "grouped_sums = df_cleaned2.groupby('Expense/Revenue')['2024'].sum()\n",
        "\n",
        "print(grouped_sums)"
      ],
      "metadata": {
        "colab": {
          "base_uri": "https://localhost:8080/"
        },
        "id": "VJs49KaTA76i",
        "outputId": "f9215631-c06b-4ad8-b41d-80c9d1c8e2b1"
      },
      "execution_count": 90,
      "outputs": [
        {
          "output_type": "stream",
          "name": "stdout",
          "text": [
            "Expense/Revenue\n",
            "Expenses    1.638039e+10\n",
            "Revenues   -1.747332e+10\n",
            "Name: 2024, dtype: float64\n"
          ]
        }
      ]
    },
    {
      "cell_type": "code",
      "source": [
        "### Total surplus / deficit for the entire budget\n",
        "\n",
        "# Sum the values in column '2024'\n",
        "sum_2024 = df['2024'].sum()\n",
        "\n",
        "print(f\"Toronto 2024 budget surplus / deficit: {sum_2024}\")"
      ],
      "metadata": {
        "colab": {
          "base_uri": "https://localhost:8080/"
        },
        "id": "KulJ8fU99zkn",
        "outputId": "22603e40-f513-4747-ea10-1562ba6c0f25"
      },
      "execution_count": 91,
      "outputs": [
        {
          "output_type": "stream",
          "name": "stdout",
          "text": [
            "Toronto 2024 budget surplus / deficit: -1087830164.08\n"
          ]
        }
      ]
    }
  ]
}